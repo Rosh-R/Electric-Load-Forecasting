{
 "cells": [
  {
   "cell_type": "markdown",
   "metadata": {},
   "source": [
    "## Importing Libraries"
   ]
  },
  {
   "cell_type": "code",
   "execution_count": 1,
   "metadata": {},
   "outputs": [],
   "source": [
    "import numpy as np\n",
    "import pandas as pd\n",
    "import matplotlib.pyplot as plt\n",
    "import matplotlib.image as mpimg\n",
    "%matplotlib inline\n",
    "import seaborn as sns"
   ]
  },
  {
   "cell_type": "code",
   "execution_count": 2,
   "metadata": {},
   "outputs": [],
   "source": [
    "raw = pd.read_csv('daily_electricity_usage.csv')"
   ]
  },
  {
   "cell_type": "code",
   "execution_count": 3,
   "metadata": {},
   "outputs": [],
   "source": [
    "raw['date'] = pd.to_datetime(raw['date'])"
   ]
  },
  {
   "cell_type": "code",
   "execution_count": 4,
   "metadata": {},
   "outputs": [
    {
     "data": {
      "text/html": [
       "<div>\n",
       "<style scoped>\n",
       "    .dataframe tbody tr th:only-of-type {\n",
       "        vertical-align: middle;\n",
       "    }\n",
       "\n",
       "    .dataframe tbody tr th {\n",
       "        vertical-align: top;\n",
       "    }\n",
       "\n",
       "    .dataframe thead th {\n",
       "        text-align: right;\n",
       "    }\n",
       "</style>\n",
       "<table border=\"1\" class=\"dataframe\">\n",
       "  <thead>\n",
       "    <tr style=\"text-align: right;\">\n",
       "      <th></th>\n",
       "      <th>Meter ID</th>\n",
       "      <th>date</th>\n",
       "      <th>total daily KW</th>\n",
       "    </tr>\n",
       "  </thead>\n",
       "  <tbody>\n",
       "    <tr>\n",
       "      <th>0</th>\n",
       "      <td>1000</td>\n",
       "      <td>2009-07-14</td>\n",
       "      <td>11.203</td>\n",
       "    </tr>\n",
       "    <tr>\n",
       "      <th>1</th>\n",
       "      <td>1000</td>\n",
       "      <td>2009-07-15</td>\n",
       "      <td>8.403</td>\n",
       "    </tr>\n",
       "    <tr>\n",
       "      <th>2</th>\n",
       "      <td>1000</td>\n",
       "      <td>2009-07-16</td>\n",
       "      <td>7.225</td>\n",
       "    </tr>\n",
       "    <tr>\n",
       "      <th>3</th>\n",
       "      <td>1000</td>\n",
       "      <td>2009-07-17</td>\n",
       "      <td>11.338</td>\n",
       "    </tr>\n",
       "    <tr>\n",
       "      <th>4</th>\n",
       "      <td>1000</td>\n",
       "      <td>2009-07-18</td>\n",
       "      <td>11.306</td>\n",
       "    </tr>\n",
       "  </tbody>\n",
       "</table>\n",
       "</div>"
      ],
      "text/plain": [
       "   Meter ID       date  total daily KW\n",
       "0      1000 2009-07-14          11.203\n",
       "1      1000 2009-07-15           8.403\n",
       "2      1000 2009-07-16           7.225\n",
       "3      1000 2009-07-17          11.338\n",
       "4      1000 2009-07-18          11.306"
      ]
     },
     "execution_count": 4,
     "metadata": {},
     "output_type": "execute_result"
    }
   ],
   "source": [
    "raw.head()"
   ]
  },
  {
   "cell_type": "markdown",
   "metadata": {},
   "source": [
    "## Data Cleaning"
   ]
  },
  {
   "cell_type": "markdown",
   "metadata": {},
   "source": [
    "### Plotting data per customer"
   ]
  },
  {
   "cell_type": "code",
   "execution_count": 5,
   "metadata": {},
   "outputs": [],
   "source": [
    "data = pd.DataFrame({'date':pd.date_range('2009-07-14',periods=536,freq='D',)})\n",
    "\n",
    "for i in range(1000,7445):\n",
    "    S = raw[raw['Meter ID']==i][['date','total daily KW']]\n",
    "    data=pd.merge(data,S,how='left',on='date')\n",
    "    \n",
    "for i in range(1,6446):\n",
    "    data.columns.values[i]=\"ID\"+str(999+i)"
   ]
  },
  {
   "cell_type": "code",
   "execution_count": 6,
   "metadata": {},
   "outputs": [
    {
     "data": {
      "text/html": [
       "<div>\n",
       "<style scoped>\n",
       "    .dataframe tbody tr th:only-of-type {\n",
       "        vertical-align: middle;\n",
       "    }\n",
       "\n",
       "    .dataframe tbody tr th {\n",
       "        vertical-align: top;\n",
       "    }\n",
       "\n",
       "    .dataframe thead th {\n",
       "        text-align: right;\n",
       "    }\n",
       "</style>\n",
       "<table border=\"1\" class=\"dataframe\">\n",
       "  <thead>\n",
       "    <tr style=\"text-align: right;\">\n",
       "      <th></th>\n",
       "      <th>date</th>\n",
       "      <th>ID1000</th>\n",
       "      <th>ID1001</th>\n",
       "      <th>ID1002</th>\n",
       "      <th>ID1003</th>\n",
       "      <th>ID1004</th>\n",
       "      <th>ID1005</th>\n",
       "      <th>ID1006</th>\n",
       "      <th>ID1007</th>\n",
       "      <th>ID1008</th>\n",
       "      <th>...</th>\n",
       "      <th>ID7435</th>\n",
       "      <th>ID7436</th>\n",
       "      <th>ID7437</th>\n",
       "      <th>ID7438</th>\n",
       "      <th>ID7439</th>\n",
       "      <th>ID7440</th>\n",
       "      <th>ID7441</th>\n",
       "      <th>ID7442</th>\n",
       "      <th>ID7443</th>\n",
       "      <th>ID7444</th>\n",
       "    </tr>\n",
       "  </thead>\n",
       "  <tbody>\n",
       "    <tr>\n",
       "      <th>0</th>\n",
       "      <td>2009-07-14</td>\n",
       "      <td>11.203</td>\n",
       "      <td>6.744</td>\n",
       "      <td>6.355</td>\n",
       "      <td>24.183</td>\n",
       "      <td>50.057</td>\n",
       "      <td>17.765</td>\n",
       "      <td>12.056</td>\n",
       "      <td>30.399</td>\n",
       "      <td>27.217</td>\n",
       "      <td>...</td>\n",
       "      <td>15.643</td>\n",
       "      <td>36.500</td>\n",
       "      <td>15.346</td>\n",
       "      <td>0.732</td>\n",
       "      <td>138.130</td>\n",
       "      <td>41.813</td>\n",
       "      <td>14.491</td>\n",
       "      <td>36.813</td>\n",
       "      <td>5.112</td>\n",
       "      <td>52.940</td>\n",
       "    </tr>\n",
       "    <tr>\n",
       "      <th>1</th>\n",
       "      <td>2009-07-15</td>\n",
       "      <td>8.403</td>\n",
       "      <td>6.949</td>\n",
       "      <td>8.972</td>\n",
       "      <td>26.659</td>\n",
       "      <td>48.813</td>\n",
       "      <td>19.801</td>\n",
       "      <td>17.169</td>\n",
       "      <td>23.976</td>\n",
       "      <td>31.996</td>\n",
       "      <td>...</td>\n",
       "      <td>14.667</td>\n",
       "      <td>29.443</td>\n",
       "      <td>26.156</td>\n",
       "      <td>0.685</td>\n",
       "      <td>115.893</td>\n",
       "      <td>31.572</td>\n",
       "      <td>12.597</td>\n",
       "      <td>40.492</td>\n",
       "      <td>18.233</td>\n",
       "      <td>35.582</td>\n",
       "    </tr>\n",
       "    <tr>\n",
       "      <th>2</th>\n",
       "      <td>2009-07-16</td>\n",
       "      <td>7.225</td>\n",
       "      <td>7.255</td>\n",
       "      <td>8.794</td>\n",
       "      <td>32.017</td>\n",
       "      <td>32.555</td>\n",
       "      <td>15.216</td>\n",
       "      <td>16.260</td>\n",
       "      <td>34.534</td>\n",
       "      <td>24.363</td>\n",
       "      <td>...</td>\n",
       "      <td>18.037</td>\n",
       "      <td>28.786</td>\n",
       "      <td>23.945</td>\n",
       "      <td>0.707</td>\n",
       "      <td>127.698</td>\n",
       "      <td>32.618</td>\n",
       "      <td>15.816</td>\n",
       "      <td>41.487</td>\n",
       "      <td>6.925</td>\n",
       "      <td>29.307</td>\n",
       "    </tr>\n",
       "    <tr>\n",
       "      <th>3</th>\n",
       "      <td>2009-07-17</td>\n",
       "      <td>11.338</td>\n",
       "      <td>7.190</td>\n",
       "      <td>8.306</td>\n",
       "      <td>33.032</td>\n",
       "      <td>46.727</td>\n",
       "      <td>23.418</td>\n",
       "      <td>14.813</td>\n",
       "      <td>19.251</td>\n",
       "      <td>23.122</td>\n",
       "      <td>...</td>\n",
       "      <td>11.512</td>\n",
       "      <td>31.394</td>\n",
       "      <td>23.118</td>\n",
       "      <td>0.655</td>\n",
       "      <td>142.211</td>\n",
       "      <td>36.614</td>\n",
       "      <td>13.162</td>\n",
       "      <td>43.986</td>\n",
       "      <td>5.370</td>\n",
       "      <td>40.986</td>\n",
       "    </tr>\n",
       "    <tr>\n",
       "      <th>4</th>\n",
       "      <td>2009-07-18</td>\n",
       "      <td>11.306</td>\n",
       "      <td>6.805</td>\n",
       "      <td>10.119</td>\n",
       "      <td>31.238</td>\n",
       "      <td>35.215</td>\n",
       "      <td>29.392</td>\n",
       "      <td>12.325</td>\n",
       "      <td>21.392</td>\n",
       "      <td>25.721</td>\n",
       "      <td>...</td>\n",
       "      <td>30.767</td>\n",
       "      <td>22.112</td>\n",
       "      <td>15.582</td>\n",
       "      <td>0.682</td>\n",
       "      <td>4.641</td>\n",
       "      <td>27.982</td>\n",
       "      <td>13.301</td>\n",
       "      <td>41.018</td>\n",
       "      <td>6.751</td>\n",
       "      <td>40.270</td>\n",
       "    </tr>\n",
       "  </tbody>\n",
       "</table>\n",
       "<p>5 rows × 6446 columns</p>\n",
       "</div>"
      ],
      "text/plain": [
       "        date  ID1000  ID1001  ID1002  ID1003  ID1004  ID1005  ID1006  ID1007  \\\n",
       "0 2009-07-14  11.203   6.744   6.355  24.183  50.057  17.765  12.056  30.399   \n",
       "1 2009-07-15   8.403   6.949   8.972  26.659  48.813  19.801  17.169  23.976   \n",
       "2 2009-07-16   7.225   7.255   8.794  32.017  32.555  15.216  16.260  34.534   \n",
       "3 2009-07-17  11.338   7.190   8.306  33.032  46.727  23.418  14.813  19.251   \n",
       "4 2009-07-18  11.306   6.805  10.119  31.238  35.215  29.392  12.325  21.392   \n",
       "\n",
       "   ID1008  ...  ID7435  ID7436  ID7437  ID7438   ID7439  ID7440  ID7441  \\\n",
       "0  27.217  ...  15.643  36.500  15.346   0.732  138.130  41.813  14.491   \n",
       "1  31.996  ...  14.667  29.443  26.156   0.685  115.893  31.572  12.597   \n",
       "2  24.363  ...  18.037  28.786  23.945   0.707  127.698  32.618  15.816   \n",
       "3  23.122  ...  11.512  31.394  23.118   0.655  142.211  36.614  13.162   \n",
       "4  25.721  ...  30.767  22.112  15.582   0.682    4.641  27.982  13.301   \n",
       "\n",
       "   ID7442  ID7443  ID7444  \n",
       "0  36.813   5.112  52.940  \n",
       "1  40.492  18.233  35.582  \n",
       "2  41.487   6.925  29.307  \n",
       "3  43.986   5.370  40.986  \n",
       "4  41.018   6.751  40.270  \n",
       "\n",
       "[5 rows x 6446 columns]"
      ]
     },
     "execution_count": 6,
     "metadata": {},
     "output_type": "execute_result"
    }
   ],
   "source": [
    "data.head()"
   ]
  },
  {
   "cell_type": "markdown",
   "metadata": {},
   "source": [
    "### Handling missing values"
   ]
  },
  {
   "cell_type": "code",
   "execution_count": 7,
   "metadata": {},
   "outputs": [
    {
     "data": {
      "text/plain": [
       "163262"
      ]
     },
     "execution_count": 7,
     "metadata": {},
     "output_type": "execute_result"
    }
   ],
   "source": [
    "data.isnull().sum().sum()"
   ]
  },
  {
   "cell_type": "code",
   "execution_count": 8,
   "metadata": {},
   "outputs": [],
   "source": [
    "data = data.fillna(data.mean())"
   ]
  },
  {
   "cell_type": "markdown",
   "metadata": {},
   "source": [
    "### Segmentation"
   ]
  },
  {
   "cell_type": "code",
   "execution_count": 9,
   "metadata": {},
   "outputs": [],
   "source": [
    "data.date = pd.to_datetime(data.date)\n",
    "data['day'] = data['date'].apply(lambda x:x.weekday())\n",
    "x_call = data.columns[1:-1]"
   ]
  },
  {
   "cell_type": "code",
   "execution_count": 10,
   "metadata": {},
   "outputs": [],
   "source": [
    "data_fix = pd.DataFrame({'Meter ID':range(1000,7445,1),'total KW':np.sum(data[x_call]).values})\n",
    "data_fix['average per day']=data[x_call].mean().values\n",
    "data_fix['% Monday']=data[data['day']==0][x_call].sum().values/data_fix['total KW']*100\n",
    "data_fix['% Tuesday']=data[data['day']==1][x_call].sum().values/data_fix['total KW']*100\n",
    "data_fix['% Wednesday']=data[data['day']==2][x_call].sum().values/data_fix['total KW']*100\n",
    "data_fix['% Thursday']=data[data['day']==3][x_call].sum().values/data_fix['total KW']*100\n",
    "data_fix['% Friday']=data[data['day']==4][x_call].sum().values/data_fix['total KW']*100\n",
    "data_fix['% Saturday']=data[data['day']==5][x_call].sum().values/data_fix['total KW']*100\n",
    "data_fix['% Sunday']=data[data['day']==6][x_call].sum().values/data_fix['total KW']*100\n",
    "data_fix['% weekday']=data[(data['day']!=5)&(data['day']!=6)][x_call].sum().values/data_fix['total KW']*100\n",
    "data_fix['% weekend']=data[(data['day']==5)|(data['day']==6)][x_call].sum().values/data_fix['total KW']*100"
   ]
  },
  {
   "cell_type": "code",
   "execution_count": 11,
   "metadata": {},
   "outputs": [
    {
     "data": {
      "text/html": [
       "<div>\n",
       "<style scoped>\n",
       "    .dataframe tbody tr th:only-of-type {\n",
       "        vertical-align: middle;\n",
       "    }\n",
       "\n",
       "    .dataframe tbody tr th {\n",
       "        vertical-align: top;\n",
       "    }\n",
       "\n",
       "    .dataframe thead th {\n",
       "        text-align: right;\n",
       "    }\n",
       "</style>\n",
       "<table border=\"1\" class=\"dataframe\">\n",
       "  <thead>\n",
       "    <tr style=\"text-align: right;\">\n",
       "      <th></th>\n",
       "      <th>Meter ID</th>\n",
       "      <th>total KW</th>\n",
       "      <th>average per day</th>\n",
       "      <th>% Monday</th>\n",
       "      <th>% Tuesday</th>\n",
       "      <th>% Wednesday</th>\n",
       "      <th>% Thursday</th>\n",
       "      <th>% Friday</th>\n",
       "      <th>% Saturday</th>\n",
       "      <th>% Sunday</th>\n",
       "      <th>% weekday</th>\n",
       "      <th>% weekend</th>\n",
       "    </tr>\n",
       "  </thead>\n",
       "  <tbody>\n",
       "    <tr>\n",
       "      <th>0</th>\n",
       "      <td>1000</td>\n",
       "      <td>5515.675</td>\n",
       "      <td>10.290438</td>\n",
       "      <td>13.818961</td>\n",
       "      <td>14.649395</td>\n",
       "      <td>14.792587</td>\n",
       "      <td>12.848944</td>\n",
       "      <td>13.900039</td>\n",
       "      <td>15.455497</td>\n",
       "      <td>14.534576</td>\n",
       "      <td>70.009926</td>\n",
       "      <td>29.990074</td>\n",
       "    </tr>\n",
       "    <tr>\n",
       "      <th>1</th>\n",
       "      <td>1001</td>\n",
       "      <td>5090.375</td>\n",
       "      <td>9.496968</td>\n",
       "      <td>14.126091</td>\n",
       "      <td>14.361830</td>\n",
       "      <td>14.289969</td>\n",
       "      <td>14.611595</td>\n",
       "      <td>14.851637</td>\n",
       "      <td>13.891904</td>\n",
       "      <td>13.866974</td>\n",
       "      <td>72.241122</td>\n",
       "      <td>27.758878</td>\n",
       "    </tr>\n",
       "    <tr>\n",
       "      <th>2</th>\n",
       "      <td>1002</td>\n",
       "      <td>5352.830</td>\n",
       "      <td>9.986623</td>\n",
       "      <td>15.714585</td>\n",
       "      <td>14.486150</td>\n",
       "      <td>16.015827</td>\n",
       "      <td>15.183408</td>\n",
       "      <td>13.964968</td>\n",
       "      <td>12.886305</td>\n",
       "      <td>11.748757</td>\n",
       "      <td>75.364938</td>\n",
       "      <td>24.635062</td>\n",
       "    </tr>\n",
       "    <tr>\n",
       "      <th>3</th>\n",
       "      <td>1003</td>\n",
       "      <td>16305.581</td>\n",
       "      <td>30.420860</td>\n",
       "      <td>14.545051</td>\n",
       "      <td>14.048454</td>\n",
       "      <td>14.216507</td>\n",
       "      <td>14.363180</td>\n",
       "      <td>14.000151</td>\n",
       "      <td>14.630714</td>\n",
       "      <td>14.195943</td>\n",
       "      <td>71.173342</td>\n",
       "      <td>28.826658</td>\n",
       "    </tr>\n",
       "    <tr>\n",
       "      <th>4</th>\n",
       "      <td>1004</td>\n",
       "      <td>25326.442</td>\n",
       "      <td>47.250825</td>\n",
       "      <td>14.630796</td>\n",
       "      <td>14.177041</td>\n",
       "      <td>14.400305</td>\n",
       "      <td>13.674076</td>\n",
       "      <td>12.893055</td>\n",
       "      <td>14.671563</td>\n",
       "      <td>15.553164</td>\n",
       "      <td>69.775273</td>\n",
       "      <td>30.224727</td>\n",
       "    </tr>\n",
       "  </tbody>\n",
       "</table>\n",
       "</div>"
      ],
      "text/plain": [
       "   Meter ID   total KW  average per day   % Monday  % Tuesday  % Wednesday  \\\n",
       "0      1000   5515.675        10.290438  13.818961  14.649395    14.792587   \n",
       "1      1001   5090.375         9.496968  14.126091  14.361830    14.289969   \n",
       "2      1002   5352.830         9.986623  15.714585  14.486150    16.015827   \n",
       "3      1003  16305.581        30.420860  14.545051  14.048454    14.216507   \n",
       "4      1004  25326.442        47.250825  14.630796  14.177041    14.400305   \n",
       "\n",
       "   % Thursday   % Friday  % Saturday   % Sunday  % weekday  % weekend  \n",
       "0   12.848944  13.900039   15.455497  14.534576  70.009926  29.990074  \n",
       "1   14.611595  14.851637   13.891904  13.866974  72.241122  27.758878  \n",
       "2   15.183408  13.964968   12.886305  11.748757  75.364938  24.635062  \n",
       "3   14.363180  14.000151   14.630714  14.195943  71.173342  28.826658  \n",
       "4   13.674076  12.893055   14.671563  15.553164  69.775273  30.224727  "
      ]
     },
     "execution_count": 11,
     "metadata": {},
     "output_type": "execute_result"
    }
   ],
   "source": [
    "data_fix=data_fix.fillna(0)\n",
    "data_fix.head()"
   ]
  },
  {
   "cell_type": "markdown",
   "metadata": {},
   "source": [
    "### Standardization Data"
   ]
  },
  {
   "cell_type": "code",
   "execution_count": 12,
   "metadata": {},
   "outputs": [
    {
     "name": "stdout",
     "output_type": "stream",
     "text": [
      "   total KW  average per day  % Monday  % Tuesday  % Wednesday  % Thursday  \\\n",
      "0 -0.462901        -0.462901 -0.248425   0.150228     0.333406   -0.956438   \n",
      "1 -0.477627        -0.477627 -0.026894  -0.042109    -0.010012    0.279580   \n",
      "2 -0.468539        -0.468539  1.118883   0.041043     1.169195    0.680550   \n",
      "3 -0.089300        -0.089300  0.275301  -0.251709    -0.060206    0.105385   \n",
      "4  0.223048         0.223048  0.337149  -0.165704     0.065376   -0.377833   \n",
      "\n",
      "   % Friday  % Saturday  % Sunday  % weekday  % weekend  Meter ID  \n",
      "0 -0.251452    0.500570  0.118593  -0.253682   0.324755      1000  \n",
      "1  0.452542   -0.181690 -0.111800   0.170082  -0.161274      1001  \n",
      "2 -0.203417   -0.620474 -0.842809   0.763378  -0.841745      1002  \n",
      "3 -0.177389    0.140683  0.001729  -0.032718   0.071324      1003  \n",
      "4 -0.996421    0.158507  0.470114  -0.298249   0.375870      1004  \n"
     ]
    }
   ],
   "source": [
    "from sklearn.preprocessing import StandardScaler\n",
    "x_calls = data_fix.columns[1:]\n",
    "scaller = StandardScaler()\n",
    "matrix = pd.DataFrame(scaller.fit_transform(data_fix[x_calls]),columns=x_calls)\n",
    "matrix['Meter ID'] = data_fix['Meter ID']\n",
    "print(matrix.head())"
   ]
  },
  {
   "cell_type": "markdown",
   "metadata": {},
   "source": [
    "### Correlation"
   ]
  },
  {
   "cell_type": "code",
   "execution_count": 13,
   "metadata": {},
   "outputs": [
    {
     "data": {
      "text/plain": [
       "<matplotlib.colorbar.Colorbar at 0x1b1e1557af0>"
      ]
     },
     "execution_count": 13,
     "metadata": {},
     "output_type": "execute_result"
    },
    {
     "data": {
      "image/png": "[encoded data removed]",
      "text/plain": [
       "<Figure size 576x432 with 2 Axes>"
      ]
     },
     "metadata": {
      "needs_background": "light"
     },
     "output_type": "display_data"
    }
   ],
   "source": [
    "corr = matrix[x_calls].corr()\n",
    "fig, ax = plt.subplots(figsize=(8, 6))\n",
    "cax=ax.matshow(corr,vmin=-1,vmax=1)\n",
    "ax.matshow(corr)\n",
    "plt.xticks(range(len(corr.columns)), corr.columns)\n",
    "plt.yticks(range(len(corr.columns)), corr.columns)\n",
    "plt.xticks(rotation=90)\n",
    "plt.colorbar(cax)"
   ]
  },
  {
   "cell_type": "markdown",
   "metadata": {},
   "source": [
    "## Clustering (K-Means)\n",
    "### Determining the number of cluster"
   ]
  },
  {
   "cell_type": "code",
   "execution_count": 14,
   "metadata": {},
   "outputs": [],
   "source": [
    "def plot_BIC(matrix,x_calls,K):\n",
    "    from sklearn import mixture\n",
    "    BIC=[]\n",
    "    for k in K:\n",
    "        model=mixture.GaussianMixture(n_components=k,init_params='kmeans')\n",
    "        model.fit(matrix[x_calls])\n",
    "        BIC.append(model.bic(matrix[x_calls]))\n",
    "    fig, ax = plt.subplots(figsize=(8, 6))\n",
    "    plt.plot(K,BIC,'-cx')\n",
    "    plt.ylabel(\"BIC score\")\n",
    "    plt.xlabel(\"k\")\n",
    "    plt.title(\"BIC scoring for K-means cell's behaviour\")\n",
    "    return(BIC)"
   ]
  },
  {
   "cell_type": "code",
   "execution_count": 15,
   "metadata": {},
   "outputs": [
    {
     "data": {
      "image/png": "[encoded data removed]",
      "text/plain": [
       "<Figure size 576x432 with 1 Axes>"
      ]
     },
     "metadata": {
      "needs_background": "light"
     },
     "output_type": "display_data"
    }
   ],
   "source": [
    "K = range(2,25)\n",
    "BIC = plot_BIC(matrix,x_calls,K)"
   ]
  },
  {
   "cell_type": "markdown",
   "metadata": {},
   "source": [
    "It is ideal to split the customers into 5 groups"
   ]
  },
  {
   "cell_type": "markdown",
   "metadata": {},
   "source": [
    "### Clustering"
   ]
  },
  {
   "cell_type": "code",
   "execution_count": 16,
   "metadata": {},
   "outputs": [
    {
     "name": "stdout",
     "output_type": "stream",
     "text": [
      "0    3753\n",
      "4    2202\n",
      "2     385\n",
      "1      95\n",
      "3      10\n",
      "Name: cluster, dtype: int64\n"
     ]
    }
   ],
   "source": [
    "from sklearn.cluster import KMeans\n",
    "from sklearn.decomposition import PCA\n",
    "from mpl_toolkits.mplot3d import Axes3D\n",
    "cluster = KMeans(n_clusters=5,random_state=217)\n",
    "matrix['cluster'] = cluster.fit_predict(matrix[x_calls])\n",
    "print(matrix.cluster.value_counts())"
   ]
  },
  {
   "cell_type": "code",
   "execution_count": 17,
   "metadata": {},
   "outputs": [
    {
     "data": {
      "text/plain": [
       "Text(0.5, 1.0, 'Cluster of Data')"
      ]
     },
     "execution_count": 17,
     "metadata": {},
     "output_type": "execute_result"
    },
    {
     "data": {
      "image/png": "[encoded data removed]",
      "text/plain": [
       "<Figure size 576x432 with 1 Axes>"
      ]
     },
     "metadata": {
      "needs_background": "light"
     },
     "output_type": "display_data"
    }
   ],
   "source": [
    "d=pd.DataFrame(matrix.cluster.value_counts())\n",
    "fig, ax = plt.subplots(figsize=(8, 6))\n",
    "plt.bar(d.index,d['cluster'],align='center',alpha=0.5)\n",
    "plt.xlabel('Cluster')\n",
    "plt.ylabel('number of data')\n",
    "plt.title('Cluster of Data')"
   ]
  },
  {
   "cell_type": "code",
   "execution_count": 18,
   "metadata": {},
   "outputs": [
    {
     "name": "stdout",
     "output_type": "stream",
     "text": [
      "[[ 0.          9.35094728  6.67614248 28.24907501  2.02803085]\n",
      " [ 9.35094728  0.          9.82435185 30.46869987  9.84850607]\n",
      " [ 6.67614248  9.82435185  0.         31.68601779  8.68103077]\n",
      " [28.24907501 30.46869987 31.68601779  0.         27.44568674]\n",
      " [ 2.02803085  9.84850607  8.68103077 27.44568674  0.        ]]\n"
     ]
    }
   ],
   "source": [
    "from sklearn.metrics.pairwise import euclidean_distances\n",
    "distance = euclidean_distances(cluster.cluster_centers_, cluster.cluster_centers_)\n",
    "print(distance)"
   ]
  },
  {
   "cell_type": "markdown",
   "metadata": {},
   "source": [
    "The first segment (Cluster 0) contains 95 costumers, the second (Cluster 1) 3747 costumers, the third (Cluster 2) 10 costumers, the fourth (Cluster 3) 2208 costumers, and the fifth (Cluster 4) 385 costumers."
   ]
  },
  {
   "cell_type": "markdown",
   "metadata": {},
   "source": [
    "### Visualization Segment"
   ]
  },
  {
   "cell_type": "code",
   "execution_count": 19,
   "metadata": {},
   "outputs": [
    {
     "name": "stdout",
     "output_type": "stream",
     "text": [
      "           x         y         z  cluster\n",
      "0   0.263091 -0.242740 -0.020161        0\n",
      "1   3.091673  8.622535 -0.845156        1\n",
      "2   6.897584 -0.321715  0.021218        2\n",
      "3 -14.255594  2.118913 -9.273445        3\n",
      "4  -1.724832  0.088645  0.109345        4\n"
     ]
    }
   ],
   "source": [
    "# Reduction dimention of the data using PCA\n",
    "pca = PCA(n_components=3)\n",
    "matrix['x'] = pca.fit_transform(matrix[x_calls])[:,0]\n",
    "matrix['y'] = pca.fit_transform(matrix[x_calls])[:,1]\n",
    "matrix['z'] = pca.fit_transform(matrix[x_calls])[:,2]\n",
    "\n",
    "# Getting the center of each cluster for plotting\n",
    "cluster_centers = pca.transform(cluster.cluster_centers_)\n",
    "cluster_centers = pd.DataFrame(cluster_centers, columns=['x', 'y', 'z'])\n",
    "cluster_centers['cluster'] = range(0, len(cluster_centers))\n",
    "print(cluster_centers)"
   ]
  },
  {
   "cell_type": "code",
   "execution_count": 20,
   "metadata": {},
   "outputs": [
    {
     "data": {
      "text/plain": [
       "Text(0.5, 1.0, 'Data Segmentation')"
      ]
     },
     "execution_count": 20,
     "metadata": {},
     "output_type": "execute_result"
    },
    {
     "data": {
      "image/png": "[encoded data removed]",
      "text/plain": [
       "<Figure size 576x432 with 2 Axes>"
      ]
     },
     "metadata": {
      "needs_background": "light"
     },
     "output_type": "display_data"
    }
   ],
   "source": [
    "# Plotting for 2-dimention\n",
    "fig, ax = plt.subplots(figsize=(8, 6))\n",
    "scatter=ax.scatter(matrix['x'],matrix['y'],c=matrix['cluster'],s=21,cmap=plt.cm.Set1_r)\n",
    "ax.scatter(cluster_centers['x'],cluster_centers['y'],s=70,c='blue',marker='+')\n",
    "ax.set_xlabel('x')\n",
    "ax.set_ylabel('y')\n",
    "plt.colorbar(scatter)\n",
    "plt.title('Data Segmentation')"
   ]
  },
  {
   "cell_type": "code",
   "execution_count": 21,
   "metadata": {},
   "outputs": [
    {
     "data": {
      "text/plain": [
       "Text(0.5, 0.92, 'Data Segmentation')"
      ]
     },
     "execution_count": 21,
     "metadata": {},
     "output_type": "execute_result"
    },
    {
     "data": {
      "image/png": "[encoded data removed]",
      "text/plain": [
       "<Figure size 576x432 with 3 Axes>"
      ]
     },
     "metadata": {
      "needs_background": "light"
     },
     "output_type": "display_data"
    }
   ],
   "source": [
    "# Plotting for 3-Dimention\n",
    "fig, ax = plt.subplots(figsize=(8, 6))\n",
    "ax=fig.add_subplot(111, projection='3d')\n",
    "scatter=ax.scatter(matrix['x'],matrix['y'],matrix['z'],c=matrix['cluster'],s=21,cmap=plt.cm.Set1_r)\n",
    "ax.scatter(cluster_centers['x'],cluster_centers['y'],cluster_centers['z'],s=70,c='red',marker='+')\n",
    "ax.set_xlabel('x')\n",
    "ax.set_ylabel('y')\n",
    "ax.set_zlabel('z')\n",
    "plt.colorbar(scatter)\n",
    "plt.title('Data Segmentation')"
   ]
  },
  {
   "cell_type": "markdown",
   "metadata": {},
   "source": [
    "#### By the plots above, we can see that all segments are separated well from each other. It means that BIC method works good for this project."
   ]
  },
  {
   "cell_type": "markdown",
   "metadata": {},
   "source": [
    "### The behavior of each segment:"
   ]
  },
  {
   "cell_type": "code",
   "execution_count": 22,
   "metadata": {},
   "outputs": [
    {
     "name": "stdout",
     "output_type": "stream",
     "text": [
      "              total KW average per day   % Monday  % Tuesday % Wednesday  \\\n",
      "                  mean            mean       mean       mean        mean   \n",
      "cluster                                                                    \n",
      "0         15158.451170       28.280692  14.316041  14.589846   14.462756   \n",
      "1        204513.395071      381.554842  14.399471  14.874050   14.868919   \n",
      "2         38078.381322       71.041756  15.771192  17.997538   17.604645   \n",
      "3             0.000000        0.000000   0.000000   0.000000    0.000000   \n",
      "4         13956.784000       26.038776  13.676202  13.564929   13.498745   \n",
      "\n",
      "        % Thursday   % Friday % Saturday   % Sunday  % weekday  % weekend  \n",
      "              mean       mean       mean       mean       mean       mean  \n",
      "cluster                                                                    \n",
      "0        14.358826  14.282409  14.047492  13.942631  72.009877  27.990123  \n",
      "1        15.069749  15.009099  13.557638  12.221076  74.221287  25.778713  \n",
      "2        17.419801  16.092402   8.974672   6.139751  84.885578  15.114422  \n",
      "3         0.000000   0.000000   0.000000   0.000000   0.000000   0.000000  \n",
      "4        13.431051  13.875127  15.782709  16.171238  68.046053  31.953947  \n"
     ]
    }
   ],
   "source": [
    "data_fix['cluster']=matrix['cluster']\n",
    "print(data_fix[data_fix.columns[1:]].groupby(['cluster']).agg([np.mean]))"
   ]
  },
  {
   "cell_type": "code",
   "execution_count": 22,
   "metadata": {},
   "outputs": [
    {
     "data": {
      "text/plain": [
       "[2083, 2691, 3141, 3348, 4096, 4113, 4447, 5855, 6596, 6713]"
      ]
     },
     "execution_count": 22,
     "metadata": {},
     "output_type": "execute_result"
    }
   ],
   "source": [
    "list(data_fix[data_fix.cluster==3]['Meter ID'])"
   ]
  },
  {
   "cell_type": "markdown",
   "metadata": {},
   "source": [
    "Cluster 0 contains only 95 IDs but the average of daily usage and total KW is so high, 381.55 kWh and 304513.39 kWh respectively. They also have activities in all days, the highest in Thursday and Friday. We can guess that Cluster 0 comes from big companies.\n",
    "\n",
    "Cluster 1 is a biggest segment in this project contains 3747 IDs. The average of total electricity usage in observation period is 15161.06 kWh and the average of daily electricity usage is 28.28 kWh. From the percentage of daily usage in weekend or weekdays, we can see that there is no significant different between them. The consumption is about 14%. By this behaviour we can guess that the IDs in Cluster 0 comes from housing or small company that has same activities in all days.\n",
    "\n",
    "Cluster 2 contains 10 IDs that is not observed in this project. It can be seen from the total of electricity usage that is 0 kWh. The IDs not observed in this project are 2083, 2691, 3141, 3348, 4096, 4113, 4447, 5855, 6596, dan 6713.\n",
    "\n",
    "Cluster 4 has 2208 IDs and similar behavior with Cluster 1. It is confirmed by the distance between those centroids. Not only that, the similar behavior also can be seen from the daily electricity usage and the total consumption 26.4 kWh and 13955.61 kWh respectively. However, the percentage of daily using is little bit different eith Cluster 0, in weekdays the percentage is about 13% per day and it increases in weekend becomes about 16%. We can guess that those IDs are constumers comes from housing or small companies who have more activities in weekend rather than weekdays.\n",
    "\n",
    "The IDs in Cluster 5 comes from middle companies who only have activities in weekdays. We can see from the behavior of daily electricity usage where there is significant different between weekdays and weekend. In weekdays, the percentage of electricity usage is about 17% and it become slighly decrease in Monday and Friday. However,it got dramatically decrease in weekend about only 7%."
   ]
  },
  {
   "cell_type": "markdown",
   "metadata": {},
   "source": [
    "## Time Series Analysis"
   ]
  },
  {
   "cell_type": "code",
   "execution_count": 23,
   "metadata": {},
   "outputs": [],
   "source": [
    "data_cluster=data_fix[['Meter ID','cluster']]\n",
    "data_forc=pd.DataFrame({'ds':pd.to_datetime(data['date'])})"
   ]
  },
  {
   "cell_type": "code",
   "execution_count": 24,
   "metadata": {},
   "outputs": [],
   "source": [
    "for k in range(len(cluster_centers)):\n",
    "    data_clus=data_cluster[data_cluster['cluster']==k]\n",
    "    del data_clus['cluster']\n",
    "    s1=\"cluster \"+str(k)\n",
    "    data_forc[s1]=0\n",
    "    for i in list(data_clus.iloc[:,0]):\n",
    "        s2=\"ID\"+str(i)\n",
    "        data_forc[s1]+=data[s2]\n",
    "data_forc=data_forc.fillna(0)\n",
    "data_forc_0=data_forc[['ds','cluster 0']]\n",
    "data_forc_0.columns=['ds','y']\n",
    "\n",
    "data_forc_1=data_forc[['ds','cluster 1']]\n",
    "data_forc_1.columns=['ds','y']\n",
    "\n",
    "data_forc_2=data_forc[['ds','cluster 2']]\n",
    "data_forc_2.columns=['ds','y']\n",
    "\n",
    "data_forc_3=data_forc[['ds','cluster 3']]\n",
    "data_forc_3.columns=['ds','y']\n",
    "\n",
    "data_forc_4=data_forc[['ds','cluster 4']]\n",
    "data_forc_4.columns=['ds','y']\n",
    "\n",
    "data_forc_all=pd.DataFrame({'ds':data_forc['ds']})\n",
    "data_forc_all['y']=data_forc['cluster 0']+data_forc['cluster 1']+data_forc['cluster 2']+data_forc['cluster 3']+data_forc['cluster 4']"
   ]
  },
  {
   "cell_type": "code",
   "execution_count": 25,
   "metadata": {},
   "outputs": [],
   "source": [
    "def plot_data(data_forc):\n",
    "    timeseries=data_forc.copy()\n",
    "    timeseries.columns=['date','Total Daily KW']\n",
    "    timeseries = timeseries.set_index('date') \n",
    "    fig, ax = plt.subplots(figsize=(8, 6))\n",
    "    plt.scatter(timeseries.index,timeseries['Total Daily KW'],c='black',s=2)"
   ]
  },
  {
   "cell_type": "code",
   "execution_count": 29,
   "metadata": {
    "scrolled": true
   },
   "outputs": [],
   "source": [
    "data_forc_0.to_csv('Cluster0.csv')\n",
    "data_forc_1.to_csv('Cluster1.csv')\n",
    "data_forc_2.to_csv('Cluster2.csv')\n",
    "data_forc_3.to_csv('Cluster3.csv')\n",
    "data_forc_4.to_csv('Cluster4.csv')"
   ]
  }
 ],
 "metadata": {
  "kernelspec": {
   "display_name": "Python 3",
   "language": "python",
   "name": "python3"
  },
  "language_info": {
   "codemirror_mode": {
    "name": "ipython",
    "version": 3
   },
   "file_extension": ".py",
   "mimetype": "text/x-python",
   "name": "python",
   "nbconvert_exporter": "python",
   "pygments_lexer": "ipython3",
   "version": "3.8.3"
  }
 },
 "nbformat": 4,
 "nbformat_minor": 4
}
